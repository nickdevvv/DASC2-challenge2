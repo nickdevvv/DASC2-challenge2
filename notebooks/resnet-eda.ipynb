{
 "cells": [
  {
   "cell_type": "code",
   "execution_count": 2,
   "id": "3bff6ade",
   "metadata": {},
   "outputs": [
    {
     "name": "stdout",
     "output_type": "stream",
     "text": [
      "[PhysicalDevice(name='/physical_device:CPU:0', device_type='CPU'), PhysicalDevice(name='/physical_device:GPU:0', device_type='GPU')]\n",
      "2.10.0\n"
     ]
    }
   ],
   "source": [
    "\n",
    "import tensorflow as tf\n",
    "import os\n",
    "import pathlib\n",
    "import matplotlib.pyplot as plt\n",
    "import numpy as np\n",
    "import pandas as pd\n",
    "\n",
    "from tensorflow import keras\n",
    "from tensorflow.keras import models, layers, optimizers\n",
    "from tensorflow.keras.layers import GlobalAveragePooling2D\n",
    "from tensorflow.keras.preprocessing.image import ImageDataGenerator\n",
    "from tensorflow.keras.callbacks import EarlyStopping\n",
    "from sklearn.metrics import classification_report\n",
    "\n",
    "\n",
    "from IPython.core.interactiveshell import InteractiveShell\n",
    "InteractiveShell.ast_node_interactivity = \"all\"\n",
    "\n",
    "# Check for TensorFlow GPU access\n",
    "print(tf.config.list_physical_devices())\n",
    "\n",
    "# See TensorFlow version\n",
    "print(tf.__version__)"
   ]
  },
  {
   "cell_type": "code",
   "execution_count": 4,
   "id": "b0a65954",
   "metadata": {},
   "outputs": [],
   "source": [
    "base_dir = '../data/fruits-360/'\n",
    "test_dir = os.path.join(base_dir, 'Test')\n",
    "train_dir = os.path.join(base_dir, 'Training')\n",
    "\n",
    "train_dir = pathlib.Path(train_dir)\n",
    "test_dir = pathlib.Path(test_dir) \n",
    "\n",
    "# Img size\n",
    "\n",
    "img_height = 224\n",
    "img_width = 224"
   ]
  },
  {
   "cell_type": "code",
   "execution_count": 5,
   "id": "32a3a3fb",
   "metadata": {},
   "outputs": [
    {
     "name": "stdout",
     "output_type": "stream",
     "text": [
      "Found 54190 images belonging to 131 classes.\n",
      "Found 13502 images belonging to 131 classes.\n",
      "Found 22688 images belonging to 131 classes.\n"
     ]
    }
   ],
   "source": [
    "# ResNet50 Model \n",
    "\n",
    "# Data preprocessing - ImageDataGenerator\n",
    "\n",
    "# Normalize the pixels in the train data images, resize and augment the data\n",
    "train_datagen = ImageDataGenerator(\n",
    "    rescale=1./255,# Image augmentaion \n",
    "    shear_range=0.2,\n",
    "    zoom_range=0.2, # Zoom in on image by 20%\n",
    "    horizontal_flip=True, #  Flip the image horizontally\n",
    "    validation_split=0.2) # Split 20% of the data for validation\n",
    "\n",
    "# Normalize the test data images\n",
    "test_datagen = ImageDataGenerator(rescale=1./255) \n",
    "\n",
    "train_generator = train_datagen.flow_from_directory(\n",
    "    train_dir,\n",
    "    target_size=(img_height, img_width),\n",
    "    batch_size=32,\n",
    "    class_mode='categorical',\n",
    "    subset='training') # Set as training data\n",
    "\n",
    "validation_generator = train_datagen.flow_from_directory(\n",
    "    train_dir, # Same directory as training data\n",
    "    target_size=(img_height, img_width),\n",
    "    batch_size=32,\n",
    "    class_mode='categorical',\n",
    "    subset='validation') # Set as validation data\n",
    "\n",
    "test_generator = test_datagen.flow_from_directory(\n",
    "    test_dir,\n",
    "    target_size=(img_height, img_width),\n",
    "    batch_size=32,\n",
    "    class_mode='categorical')"
   ]
  },
  {
   "cell_type": "code",
   "execution_count": null,
   "id": "b72765ed",
   "metadata": {},
   "outputs": [],
   "source": [
    "# Create the model based on ResNet50\n",
    "\n",
    "# Load the ResNet50 model\n",
    "conv_base = keras.applications.ResNet50V2(\n",
    "    include_top=False,\n",
    "    weights=\"imagenet\",\n",
    "    input_shape=(img_height, img_width, 3),\n",
    ")\n",
    "\n",
    "pool = GlobalAveragePooling2D()(conv_base.output)\n",
    "dense = layers.Dense(512, activation = 'relu')(pool)\n",
    "out_class = layers.Dense(131, activation = 'softmax')(dense)\n",
    "model_resnet = models.Model(inputs = conv_base.input, outputs=out_class)\n",
    "\n",
    "# Compile the model\n",
    "model_resnet.compile(loss='categorical_crossentropy',\n",
    "              optimizer='adam',\n",
    "              metrics=['accuracy'])\n",
    "\n",
    "# Model summary\n",
    "model_resnet.summary()"
   ]
  },
  {
   "cell_type": "code",
   "execution_count": null,
   "id": "8b25b3f4",
   "metadata": {},
   "outputs": [],
   "source": [
    "# Check for GPU availability\n",
    "from tensorflow.python.client import device_lib\n",
    "print(device_lib.list_local_devices())"
   ]
  },
  {
   "cell_type": "code",
   "execution_count": null,
   "id": "910ab439",
   "metadata": {},
   "outputs": [],
   "source": [
    "# Train the model\n",
    "with tf.device(\"/device:GPU:0\"):\n",
    "        history = model_resnet.fit(\n",
    "        train_generator,\n",
    "        epochs=5,\n",
    "        validation_data=validation_generator,\n",
    "        verbose = 1,\n",
    "        callbacks=[EarlyStopping(monitor='val_accuracy', patience = 3, restore_best_weights = False)]\n",
    "        )\n",
    "        \n",
    "# Save the model\n",
    "def save_model(model, seed):\n",
    "    model.save(f\"../models/resnet50v2-{seed}\")\n",
    "    \n",
    "save_model(model_resnet, 1)"
   ]
  },
  {
   "cell_type": "code",
   "execution_count": null,
   "id": "c4a0f694",
   "metadata": {},
   "outputs": [],
   "source": [
    "# Test the model\n",
    "\n",
    "loss, accuracy = model_resnet.evaluate(test_generator)\n",
    "print(f'Test accuracy: {accuracy:.3f}, Test loss: {loss:.3f}')"
   ]
  },
  {
   "cell_type": "code",
   "execution_count": null,
   "id": "0c130c7a",
   "metadata": {},
   "outputs": [],
   "source": [
    "# Predictions\n",
    "\n",
    "# Load model for predictions\n",
    "# model_resnet = keras.models.load_model('../models/resnet50v2-1')\n",
    "\n",
    "test_datagen = ImageDataGenerator(rescale=1./255)\n",
    "\n",
    "test_generator = test_datagen.flow_from_directory(\n",
    "        test_dir,\n",
    "        target_size=(img_height, img_width),\n",
    "        shuffle = False,\n",
    "        class_mode='categorical',\n",
    "        batch_size=1)\n",
    "\n",
    "filenames = test_generator.filenames\n",
    "nb_samples = len(filenames)\n",
    "\n",
    "predict = model_resnet.predict(test_generator, steps = nb_samples)"
   ]
  },
  {
   "cell_type": "code",
   "execution_count": null,
   "id": "763f6377",
   "metadata": {},
   "outputs": [],
   "source": [
    "# Get the predicted classes\n",
    "\n",
    "files = test_generator.filenames\n",
    "class_dict = test_generator.class_indices # a dictionary of the form class name: class index\n",
    "rev_dict = {}\n",
    "for key, value in class_dict.items():\n",
    "    rev_dict[value] = key   # dictionary of the form class index: class name\n",
    "    \n",
    "for i, p in enumerate(predict):\n",
    "    index = np.argmax(p)\n",
    "    klass = rev_dict[index]    \n",
    "    prob = p[index]    \n",
    "    print(f'Predicted class: {rev_dict[i]}, Probability: {prob:.3f}')"
   ]
  },
  {
   "cell_type": "code",
   "execution_count": 10,
   "id": "b416bd6a",
   "metadata": {},
   "outputs": [
    {
     "name": "stdout",
     "output_type": "stream",
     "text": [
      "1/1 [==============================] - 0s 57ms/step\n",
      "Predicted class: Banana Red, Probability: 53.517\n"
     ]
    },
    {
     "name": "stderr",
     "output_type": "stream",
     "text": [
      "2022-12-06 14:34:57.724997: I tensorflow/core/grappler/optimizers/custom_graph_optimizer_registry.cc:114] Plugin optimizer for device_type GPU is enabled.\n"
     ]
    }
   ],
   "source": [
    "import tensorflow as tf\n",
    "from tensorflow import keras\n",
    "from PIL import Image\n",
    "\n",
    "from tensorflow.keras.applications.resnet50 import preprocess_input\n",
    "from tensorflow.keras.preprocessing import image\n",
    "\n",
    "# Helper libraries\n",
    "import numpy as np\n",
    "import matplotlib.pyplot as plt\n",
    "\n",
    "model = keras.models.load_model('../models/cnn-split-train-val')\n",
    "class_dict = test_generator.class_indices # a dictionary of the form class name: class index\n",
    "\n",
    "def classify(img_path):    \n",
    "    img = image.load_img(img_path, target_size=(100, 100))\n",
    "    \n",
    "    img_array = image.img_to_array(img)\n",
    "\n",
    "    img_batch = np.expand_dims(img_array, axis=0)\n",
    "\n",
    "    img_preprocessed = preprocess_input(img_batch)\n",
    "    \n",
    "    prediction = model.predict(img_preprocessed)\n",
    "\n",
    "    return prediction\n",
    "\n",
    "\n",
    "pred = classify(\"../apple_white.png\")\n",
    "\n",
    "value = np.argmax(pred[0])\n",
    "\n",
    "klass = [k for k, v in class_dict.items() if v == value][0]\n",
    "\n",
    "print(f'Predicted class: {klass}, Probability: {pred[0][value]:.3f}')"
   ]
  },
  {
   "cell_type": "code",
   "execution_count": 13,
   "id": "e06f10a2",
   "metadata": {},
   "outputs": [
    {
     "ename": "AttributeError",
     "evalue": "'NoneType' object has no attribute 'history'",
     "output_type": "error",
     "traceback": [
      "\u001b[0;31m---------------------------------------------------------------------------\u001b[0m",
      "\u001b[0;31mAttributeError\u001b[0m                            Traceback (most recent call last)",
      "Cell \u001b[0;32mIn [13], line 3\u001b[0m\n\u001b[1;32m      1\u001b[0m model_resnet \u001b[39m=\u001b[39m keras\u001b[39m.\u001b[39mmodels\u001b[39m.\u001b[39mload_model(\u001b[39m'\u001b[39m\u001b[39m../models/resnet50v2-1\u001b[39m\u001b[39m'\u001b[39m)\n\u001b[0;32m----> 3\u001b[0m acc \u001b[39m=\u001b[39m model_resnet\u001b[39m.\u001b[39;49mhistory\u001b[39m.\u001b[39;49mhistory[\u001b[39m'\u001b[39m\u001b[39maccuracy\u001b[39m\u001b[39m'\u001b[39m]\n\u001b[1;32m      4\u001b[0m val_acc \u001b[39m=\u001b[39m model_resnet\u001b[39m.\u001b[39mhistory[\u001b[39m'\u001b[39m\u001b[39mval_accuracy\u001b[39m\u001b[39m'\u001b[39m]\n\u001b[1;32m      6\u001b[0m loss \u001b[39m=\u001b[39m model_resnet\u001b[39m.\u001b[39mhistory[\u001b[39m'\u001b[39m\u001b[39mloss\u001b[39m\u001b[39m'\u001b[39m]\n",
      "\u001b[0;31mAttributeError\u001b[0m: 'NoneType' object has no attribute 'history'"
     ]
    }
   ],
   "source": [
    "model_resnet = keras.models.load_model('../models/resnet50v2-1')\n",
    "\n",
    "acc = history.history['accuracy']\n",
    "val_acc = history['val_accuracy']\n",
    "\n",
    "loss = history['loss']\n",
    "val_loss = history['val_loss']\n",
    "\n",
    "epochs_range = range(1, len(history.history['accuracy']) + 1)\n",
    "\n",
    "plt.figure(figsize=(10, 5))\n",
    "plt.subplot(1, 2, 1)\n",
    "plt.plot(epochs_range, acc, label='Training Accuracy')\n",
    "plt.plot(epochs_range, val_acc, label='Validation Accuracy')\n",
    "plt.ylabel('Accuracy')\n",
    "plt.xlabel('Epoch')\n",
    "plt.legend()\n",
    "plt.title('Training and Validation Accuracy')\n",
    "\n",
    "plt.figure(figsize=(10, 5))\n",
    "plt.subplot(1, 2, 1)\n",
    "plt.plot(epochs_range, loss, label='Training Loss')\n",
    "plt.plot(epochs_range, val_loss, label='Validation Loss')\n",
    "plt.ylabel('Loss')\n",
    "plt.xlabel('Epoch')\n",
    "plt.legend()\n",
    "plt.title('Training and Validation Loss')"
   ]
  }
 ],
 "metadata": {
  "kernelspec": {
   "display_name": "Python 3.8.15 ('tf')",
   "language": "python",
   "name": "python3"
  },
  "language_info": {
   "codemirror_mode": {
    "name": "ipython",
    "version": 3
   },
   "file_extension": ".py",
   "mimetype": "text/x-python",
   "name": "python",
   "nbconvert_exporter": "python",
   "pygments_lexer": "ipython3",
   "version": "3.9.15 | packaged by conda-forge | (main, Nov 22 2022, 08:48:25) \n[Clang 14.0.6 ]"
  },
  "vscode": {
   "interpreter": {
    "hash": "9c3d60751ac06a49151021d7295e62ca50ac53f99ffa0d298fb8b93ccc0dc450"
   }
  }
 },
 "nbformat": 4,
 "nbformat_minor": 5
}
